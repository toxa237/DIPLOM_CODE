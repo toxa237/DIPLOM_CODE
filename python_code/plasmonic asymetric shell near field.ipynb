{
 "cells": [
  {
   "cell_type": "code",
   "execution_count": 1,
   "metadata": {},
   "outputs": [],
   "source": [
    "import numpy as np\n",
    "import matplotlib.pyplot as plt\n",
    "import pandas as pd\n",
    "\n",
    "from cmath import phase, polar\n",
    "from scipy.special import jv as besselj\n",
    "from scipy.special import hankel2 as besselh\n",
    "\n",
    "from scipy.optimize import fsolve\n",
    "from math import cos, pi, e\n",
    "\n",
    "from scipy.integrate import simps\n",
    "from scipy.signal import find_peaks\n",
    "\n",
    "np.random.seed(0)\n",
    "\n",
    "from importlib import reload  \n",
    "import asym_shell_help_func\n",
    "reload(asym_shell_help_func)\n",
    "    \n",
    "from asym_shell_help_func import get_coefficients, get_refractive_index\n",
    "\n",
    "%matplotlib inline"
   ]
  },
  {
   "cell_type": "markdown",
   "metadata": {},
   "source": [
    "# Parameters"
   ]
  },
  {
   "cell_type": "code",
   "execution_count": 2,
   "metadata": {},
   "outputs": [],
   "source": [
    "plasmonic_metal = 'silver'\n",
    "#structure \n",
    "r_ext = 100 # external radius in nm\n",
    "r_int = 70  # internal radius in nm\n",
    "dist_between_centers=0 # (nm)\n",
    "\n",
    "# parameters of incident wave \n",
    "lyambda= 428 # wavelength in nm\n",
    "alpha_incident = pi / 2 # angle of incidence\n"
   ]
  },
  {
   "cell_type": "code",
   "execution_count": 3,
   "metadata": {},
   "outputs": [],
   "source": [
    "# normalization \n",
    "r0=r_ext # radius (nm)\n",
    "\n",
    "w0_incident=2*pi*r_ext/lyambda\n",
    "\n",
    "h_ratio = r_int / r_ext\n",
    "dist_btw_centers = dist_between_centers / r_ext\n",
    "\n",
    "# system truncation number\n",
    "N_truncation_number = 15"
   ]
  },
  {
   "cell_type": "code",
   "execution_count": 4,
   "metadata": {},
   "outputs": [],
   "source": [
    "n_value, k_value = get_refractive_index(lyambda, plasmonic_metal)\n",
    "n_plasma_refr_index = n_value - 1.j * k_value"
   ]
  },
  {
   "cell_type": "code",
   "execution_count": 5,
   "metadata": {},
   "outputs": [],
   "source": [
    "a_m, b_m, c_m, d_m= get_coefficients(w0_incident, n_plasma_refr_index, h_ratio, alpha_incident, N_truncation_number, dist_btw_centers)\n",
    "if a_m == []:\n",
    "    print('The system does not converge for this parameters')"
   ]
  },
  {
   "cell_type": "code",
   "execution_count": 11,
   "metadata": {},
   "outputs": [],
   "source": [
    "num_of_points = 500\n",
    "xy = np.linspace(-3, 3, num=num_of_points)\n",
    "\n",
    "x1, y1 = np.meshgrid(xy, xy)\n",
    "y1 = -y1 \n",
    "Z = np.zeros((num_of_points, num_of_points), dtype=complex)\n"
   ]
  },
  {
   "cell_type": "code",
   "execution_count": 12,
   "metadata": {},
   "outputs": [],
   "source": [
    "def get_field_core(w0, a_, N, r, phi):\n",
    "    res = 0\n",
    "    for m in range(-N, N + 1):\n",
    "        a = a_[m + N]\n",
    "        res = res + a * besselj(m,w0*r) * e**(1.j *m * phi)\n",
    "    return res"
   ]
  },
  {
   "cell_type": "code",
   "execution_count": 13,
   "metadata": {},
   "outputs": [],
   "source": [
    "def get_field_shell(w0, n, b_, c_, N, r1, phi1, r2, phi2):\n",
    "    res = 0\n",
    "    for m in range(-N, N + 1):\n",
    "        b = b_[m + N]\n",
    "        res = res + b * besselj(m,n*w0*r1) * e**(1.j *m * phi1)\n",
    "        \n",
    "    for m in range(-N, N + 1):\n",
    "        c = c_[m + N]\n",
    "        res = res + c * besselh(m,n*w0*r2) * e**(1.j *m * phi2)\n",
    "    \n",
    "    return res"
   ]
  },
  {
   "cell_type": "code",
   "execution_count": 14,
   "metadata": {},
   "outputs": [],
   "source": [
    "def get_field_out(w0, d_, N, r, phi, alpha):\n",
    "    res = 0\n",
    "    for m in range(-N, N+1):\n",
    "        d = d_[m + N]\n",
    "        H = d * besselh(m, w0*r) * e**(1.j *m * phi) + (-1.j) ** m * besselj(m, w0*r) *  e**(1.j *m * (phi - alpha))\n",
    "        res = res + H \n",
    "    \n",
    "    return res"
   ]
  },
  {
   "cell_type": "code",
   "execution_count": null,
   "metadata": {},
   "outputs": [],
   "source": [
    "if a_m != []:\n",
    "    for i in range(xy.size):\n",
    "        for j in range(xy.size):\n",
    "            if ((x1[i][j] - dist_btw_centers)**2 + y1[i][j]**2 > h_ratio**2) and (x1[i][j]**2 + y1[i][j]**2 < 1):\n",
    "                r1, phi1 = polar(complex(x1[i,j], y1[i,j]))\n",
    "                r2, phi2 = polar(complex(x1[i,j] - dist_btw_centers, y1[i,j]))\n",
    "                Z[i, j]= get_field_shell(w0_incident, n_plasma_refr_index, b_m, c_m, N_truncation_number, r1, phi1, r2, phi2)\n",
    "\n",
    "            if ((x1[i][j] - dist_btw_centers)**2 + y1[i][j]**2 <= h_ratio**2):\n",
    "                r2, phi2 = polar(complex(x1[i,j] - dist_btw_centers, y1[i,j]))\n",
    "                Z[i, j]=get_field_core(w0_incident, a_m, N_truncation_number, r2, phi2)\n",
    "\n",
    "            if (x1[i][j]**2 + y1[i][j]**2 >= 1):\n",
    "                r1, phi1 = polar(complex(x1[i,j], y1[i,j]))\n",
    "                Z[i, j] =get_field_out(w0_incident, d_m, N_truncation_number, r1, phi1, alpha_incident)\n",
    "\n",
    "    fig = plt.figure(figsize = (3, 3), dpi = 100)\n",
    "    ax = plt.contourf(x1,y1,1000 *abs(Z.real))\n",
    "    circle1 = plt.Circle((dist_btw_centers, 0),h_ratio, color='white', fill = False)\n",
    "    circle2= plt.Circle((0, 0),1, color='white', fill = False)\n",
    "    plt.gca().add_patch(circle1)\n",
    "    plt.gca().add_patch(circle2)\n",
    "    plt.gca().set_aspect('equal', adjustable='box')\n",
    "#     plt.colorbar()\n",
    "    plt.axis('off')\n",
    "#     plt.show() \n",
    "#     plt.savefig('figures/near_field_r_ext_'+ str(r_ext) +'_r_int_' + str(r_int)+ '_lambda_' + str(lyambda)+ '.jpg', dpi = 100)"
   ]
  },
  {
   "cell_type": "code",
   "execution_count": 23,
   "metadata": {},
   "outputs": [
    {
     "data": {
      "text/plain": [
       "(200,)"
      ]
     },
     "execution_count": 23,
     "metadata": {},
     "output_type": "execute_result"
    }
   ],
   "source": [
    "xy.shape"
   ]
  },
  {
   "cell_type": "markdown",
   "metadata": {},
   "source": [
    "# Far Field"
   ]
  },
  {
   "cell_type": "code",
   "execution_count": 24,
   "metadata": {},
   "outputs": [],
   "source": [
    "def get_far_field(d_, w0, N, phi, d):\n",
    "    res = 0\n",
    "    for m in range(-N, N + 1):\n",
    "       \n",
    "        d = d_[m + N]\n",
    "        temp = d * e**(1.j*m*phi) * 1.j**m\n",
    "        res = res + temp\n",
    "    \n",
    "    return res"
   ]
  },
  {
   "cell_type": "code",
   "execution_count": 25,
   "metadata": {},
   "outputs": [
    {
     "data": {
      "image/png": "[encoded data removed]",
      "text/plain": [
       "<Figure size 432x288 with 1 Axes>"
      ]
     },
     "metadata": {
      "needs_background": "light"
     },
     "output_type": "display_data"
    }
   ],
   "source": [
    "if a_m != []:\n",
    "    phi = np.linspace(0, 2*pi, num=360)\n",
    "    YY = []\n",
    "    for i in range(len(phi)):\n",
    "        S = get_far_field(d_m, w0_incident, N_truncation_number, phi[i], dist_btw_centers)    \n",
    "        YY.append(abs(S))\n",
    "    fig = plt.figure(1)\n",
    "    ax = fig.add_subplot(111, projection='polar')\n",
    "    ax.plot(phi, YY, color='r', linewidth=1)\n",
    "    ax.set_yticklabels([])\n",
    "\n",
    "#     plt.show()\n",
    "#     plt.savefig('figures/far_field_ext_'+ str(r_ext) +'_r_int_' + str(r_int)+ '_lambda_' + str(lyambda)+ '.jpg', dpi = 100)"
   ]
  },
  {
   "cell_type": "markdown",
   "metadata": {},
   "source": [
    "# SCS"
   ]
  },
  {
   "cell_type": "code",
   "execution_count": 13,
   "metadata": {},
   "outputs": [
    {
     "data": {
      "text/plain": [
       "Text(0, 0.5, 'SCS')"
      ]
     },
     "execution_count": 13,
     "metadata": {},
     "output_type": "execute_result"
    },
    {
     "data": {
      "image/png": "[encoded data removed]",
      "text/plain": [
       "<Figure size 432x288 with 1 Axes>"
      ]
     },
     "metadata": {
      "needs_background": "light"
     },
     "output_type": "display_data"
    }
   ],
   "source": [
    "L = np.arange(300, 600, 1)\n",
    "SCS = []\n",
    "\n",
    "\n",
    "for i in range(len(L)):\n",
    "    \n",
    "    \n",
    "    lyambda_current = L[i]\n",
    "    w0_incident_current = 2*pi*r_ext/lyambda_current\n",
    "    \n",
    "    n_value, k_value = get_refractive_index(lyambda_current, plasmonic_metal)\n",
    "    n_plasma_refr_index_current = n_value - 1.j * k_value\n",
    "    \n",
    "#     n_plasma_refr_index_current= get_plasma_refr_index(eps_inf_plasma, w_plasma, gamma_plasma, w0_incident_current)\n",
    "  \n",
    "    a_m, b_m,  c_m, d_m = get_coefficients(w0_incident_current, n_plasma_refr_index_current, h_ratio, alpha_incident, N_truncation_number, dist_btw_centers)\n",
    "    if a_m == []:\n",
    "        print('The system does not converge for this parameters')\n",
    "        break\n",
    "        \n",
    "    res = 0\n",
    "    for m in range(-N_truncation_number, N_truncation_number + 1):\n",
    "        \n",
    "        res = res + np.abs(d_m[m + N_truncation_number]) ** 2\n",
    "    SCS.append(4 * res[0] / w0_incident_current)\n",
    "\n",
    "if len(L) == len(SCS):   \n",
    "    plt.plot(L, SCS)\n",
    "    \n",
    "plt.xlabel('wavelength (nm)')\n",
    "plt.ylabel('SCS')\n",
    "\n",
    "# plt.savefig('figures/SCS_ext_'+ str(r_ext) +'_r_int_' + str(r_int)+ '.jpg', dpi = 100)  "
   ]
  },
  {
   "cell_type": "code",
   "execution_count": 14,
   "metadata": {},
   "outputs": [
    {
     "name": "stdout",
     "output_type": "stream",
     "text": [
      "332  nm\n",
      "428  nm\n"
     ]
    }
   ],
   "source": [
    "peaks, _ = find_peaks(SCS)\n",
    "\n",
    "for i in range(len(peaks)):\n",
    "    print(L[peaks[i]], ' nm')"
   ]
  },
  {
   "cell_type": "code",
   "execution_count": null,
   "metadata": {},
   "outputs": [],
   "source": []
  }
 ],
 "metadata": {
  "kernelspec": {
   "display_name": "Python 3 (ipykernel)",
   "language": "python",
   "name": "python3"
  },
  "language_info": {
   "codemirror_mode": {
    "name": "ipython",
    "version": 3
   },
   "file_extension": ".py",
   "mimetype": "text/x-python",
   "name": "python",
   "nbconvert_exporter": "python",
   "pygments_lexer": "ipython3",
   "version": "3.10.6"
  }
 },
 "nbformat": 4,
 "nbformat_minor": 2
}
